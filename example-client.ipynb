{
 "cells": [
  {
   "cell_type": "code",
   "execution_count": null,
   "id": "faa3cd1c-1c89-45f7-971f-edbf8824ee4d",
   "metadata": {
    "scrolled": true
   },
   "outputs": [],
   "source": [
    "import dask.array as da\n",
    "from dask.distributed import Client, LocalCluster\n",
    "cluster=LocalCluster()\n",
    "client = Client(cluster)"
   ]
  },
  {
   "cell_type": "code",
   "execution_count": null,
   "id": "cb810fed-717c-401b-9f21-2d35ee34d2d7",
   "metadata": {},
   "outputs": [],
   "source": [
    "display(cluster)"
   ]
  },
  {
   "cell_type": "code",
   "execution_count": null,
   "id": "b29c218d-83ad-443d-8bed-415280d41b0d",
   "metadata": {},
   "outputs": [],
   "source": [
    "def square(x):\n",
    "    return x**2\n",
    "def neg(x):\n",
    "    return -x\n",
    "def loop(x):\n",
    "    while( True ):\n",
    "        continue\n",
    "    return 0\n",
    "\n",
    "A = client.map(square, range(10))\n",
    "B = client.map(neg, A)\n",
    "L = client.map(loop, [0])\n",
    "total = client.submit(sum, B)\n",
    "total.result()"
   ]
  },
  {
   "cell_type": "code",
   "execution_count": null,
   "id": "866efbfb-9e38-4061-a65d-6d1c40167c33",
   "metadata": {},
   "outputs": [],
   "source": [
    "display(A)\n",
    "client.gather(A)"
   ]
  },
  {
   "cell_type": "code",
   "execution_count": null,
   "id": "dd3c1417-e1c1-4200-a716-e6cd41a8e7be",
   "metadata": {},
   "outputs": [],
   "source": [
    "display(B)\n",
    "client.gather(B)\n",
    "B[1].result()"
   ]
  },
  {
   "cell_type": "code",
   "execution_count": null,
   "id": "1828ec99-472d-4648-8e72-88d920790d83",
   "metadata": {},
   "outputs": [],
   "source": [
    "display(L)\n",
    "# L[0].result()"
   ]
  },
  {
   "cell_type": "code",
   "execution_count": null,
   "id": "a7a64ebd-63fc-451d-b96e-30c5941e8e85",
   "metadata": {},
   "outputs": [],
   "source": []
  }
 ],
 "metadata": {
  "kernelspec": {
   "display_name": "Python 3 (ipykernel)",
   "language": "python",
   "name": "python3"
  },
  "language_info": {
   "codemirror_mode": {
    "name": "ipython",
    "version": 3
   },
   "file_extension": ".py",
   "mimetype": "text/x-python",
   "name": "python",
   "nbconvert_exporter": "python",
   "pygments_lexer": "ipython3",
   "version": "3.10.14"
  }
 },
 "nbformat": 4,
 "nbformat_minor": 5
}
