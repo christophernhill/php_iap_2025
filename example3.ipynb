{
 "cells": [
  {
   "cell_type": "code",
   "execution_count": null,
   "id": "9355d68e-673f-4705-8eb9-631d77a569d6",
   "metadata": {},
   "outputs": [],
   "source": [
    "import numpy as np\n",
    "import dask.array as da\n",
    "data=np.arange(100_000).reshape(200,500)\n",
    "print(data)\n",
    "data.max()"
   ]
  },
  {
   "cell_type": "code",
   "execution_count": null,
   "id": "9b561a9d-de75-45ef-bd39-4e01902f46bd",
   "metadata": {},
   "outputs": [],
   "source": [
    "data_dask=da.from_array(data,chunks=(100,100))\n",
    "display(data_dask)\n",
    "data_dask.max()"
   ]
  },
  {
   "cell_type": "code",
   "execution_count": null,
   "id": "2e237f5d-da6b-4a35-84ae-d613b054c473",
   "metadata": {},
   "outputs": [],
   "source": [
    "data_dask.max().compute()"
   ]
  },
  {
   "cell_type": "code",
   "execution_count": null,
   "id": "0d6b6463-38df-40d2-a424-92af81760093",
   "metadata": {},
   "outputs": [],
   "source": [
    "dm=data_dask.max()\n",
    "display(dm)\n",
    "dm.visualize()"
   ]
  },
  {
   "cell_type": "code",
   "execution_count": null,
   "id": "1898dfb9-856b-4f8b-b507-2a6abd6535b4",
   "metadata": {},
   "outputs": [],
   "source": [
    "data_dask=da.from_array(data,chunks=(200,500))\n",
    "data_dask"
   ]
  },
  {
   "cell_type": "code",
   "execution_count": null,
   "id": "d3749dba-59c0-447e-8b92-c6e81c5b7e55",
   "metadata": {},
   "outputs": [],
   "source": [
    "dm=data_dask.max()\n",
    "dm"
   ]
  },
  {
   "cell_type": "code",
   "execution_count": null,
   "id": "e5deee7f-b1c1-492e-b8c9-3d840599e7cf",
   "metadata": {},
   "outputs": [],
   "source": [
    "dm.visualize()"
   ]
  },
  {
   "cell_type": "code",
   "execution_count": null,
   "id": "1f079e66-fe86-4f91-bcc6-3b1ed3557ad2",
   "metadata": {},
   "outputs": [],
   "source": []
  }
 ],
 "metadata": {
  "kernelspec": {
   "display_name": "Python 3 (ipykernel)",
   "language": "python",
   "name": "python3"
  },
  "language_info": {
   "codemirror_mode": {
    "name": "ipython",
    "version": 3
   },
   "file_extension": ".py",
   "mimetype": "text/x-python",
   "name": "python",
   "nbconvert_exporter": "python",
   "pygments_lexer": "ipython3",
   "version": "3.10.14"
  }
 },
 "nbformat": 4,
 "nbformat_minor": 5
}
