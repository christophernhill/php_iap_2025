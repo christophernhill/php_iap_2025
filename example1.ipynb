{
 "cells": [
  {
   "cell_type": "code",
   "execution_count": null,
   "id": "e3062221-b46b-4216-bab4-1896401ff3b0",
   "metadata": {},
   "outputs": [],
   "source": [
    "import numpy as np\n",
    "xnp=np.ones((100,100))\n",
    "xnp"
   ]
  },
  {
   "cell_type": "code",
   "execution_count": null,
   "id": "86da5d29-7950-461a-bd8b-15d363c8535a",
   "metadata": {},
   "outputs": [],
   "source": [
    "import dask.array as da\n",
    "xda=da.ones((100,100),chunks=(10,10))\n",
    "xda"
   ]
  },
  {
   "cell_type": "code",
   "execution_count": null,
   "id": "2f8061ab-d6a3-4024-a7c3-08102b130ed5",
   "metadata": {},
   "outputs": [],
   "source": [
    "xda.compute()"
   ]
  },
  {
   "cell_type": "code",
   "execution_count": null,
   "id": "8e376586-a53a-4f9a-a48c-04bb61e5900e",
   "metadata": {},
   "outputs": [],
   "source": []
  }
 ],
 "metadata": {
  "kernelspec": {
   "display_name": "Python 3 (ipykernel)",
   "language": "python",
   "name": "python3"
  },
  "language_info": {
   "codemirror_mode": {
    "name": "ipython",
    "version": 3
   },
   "file_extension": ".py",
   "mimetype": "text/x-python",
   "name": "python",
   "nbconvert_exporter": "python",
   "pygments_lexer": "ipython3",
   "version": "3.10.14"
  }
 },
 "nbformat": 4,
 "nbformat_minor": 5
}
