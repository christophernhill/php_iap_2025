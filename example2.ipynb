{
 "cells": [
  {
   "cell_type": "code",
   "execution_count": null,
   "id": "e94ae08e-ed85-43ad-9788-564cf87b5f2e",
   "metadata": {},
   "outputs": [],
   "source": [
    "import dask.array as da\n",
    "xda=da.ones((100,100),chunks=(50,50))\n",
    "xda"
   ]
  },
  {
   "cell_type": "code",
   "execution_count": null,
   "id": "c78e6dbf-a500-4f71-ae3b-d1420a640c6b",
   "metadata": {},
   "outputs": [],
   "source": [
    "z=xda+xda.T\n",
    "z"
   ]
  },
  {
   "cell_type": "code",
   "execution_count": null,
   "id": "bec8e9d5-e002-4c7e-9486-17e81add47c0",
   "metadata": {},
   "outputs": [],
   "source": [
    "z.compute()"
   ]
  },
  {
   "cell_type": "code",
   "execution_count": null,
   "id": "37f96b49-7b8e-4f1a-a27c-47171cd19ba7",
   "metadata": {},
   "outputs": [],
   "source": []
  }
 ],
 "metadata": {
  "kernelspec": {
   "display_name": "Python 3 (ipykernel)",
   "language": "python",
   "name": "python3"
  },
  "language_info": {
   "codemirror_mode": {
    "name": "ipython",
    "version": 3
   },
   "file_extension": ".py",
   "mimetype": "text/x-python",
   "name": "python",
   "nbconvert_exporter": "python",
   "pygments_lexer": "ipython3",
   "version": "3.10.14"
  }
 },
 "nbformat": 4,
 "nbformat_minor": 5
}
