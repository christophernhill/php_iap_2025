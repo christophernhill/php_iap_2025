{
 "cells": [
  {
   "cell_type": "code",
   "execution_count": null,
   "id": "3a725084-852c-4fff-a1eb-5a25a9691097",
   "metadata": {},
   "outputs": [],
   "source": [
    "import matplotlib.pyplot as plt\n",
    "import numpy as np\n",
    "import dask.array as da"
   ]
  },
  {
   "cell_type": "code",
   "execution_count": null,
   "id": "9ef864c3-3729-41b2-8fea-5f87f6b0b467",
   "metadata": {},
   "outputs": [],
   "source": [
    "data=np.random.rand(100*365*24*60*60)\n",
    "print(data.shape)\n",
    "\n",
    "%time data_sum = data.sum()\n",
    "data_sum"
   ]
  },
  {
   "cell_type": "code",
   "execution_count": null,
   "id": "60f4edb4-78bd-45cf-8c9b-f3824a362b86",
   "metadata": {},
   "outputs": [],
   "source": [
    "data_dask=da.from_array(data,chunks=len(data)//4)\n",
    "display(data_dask)\n",
    "sum_dask_dag=data_dask.sum()"
   ]
  },
  {
   "cell_type": "code",
   "execution_count": null,
   "id": "bb13638a-11fc-402d-bad3-8164bdafc0be",
   "metadata": {},
   "outputs": [],
   "source": [
    "sum_dask_dag.visualize()"
   ]
  },
  {
   "cell_type": "code",
   "execution_count": null,
   "id": "0abfdacc-da30-4d1e-a035-e7b3bd28c123",
   "metadata": {},
   "outputs": [],
   "source": [
    "%time sum_dask=sum_dask_dag.compute()\n",
    "sum_dask"
   ]
  },
  {
   "cell_type": "code",
   "execution_count": null,
   "id": "ee636c00-2a96-4db2-a004-28987bc51198",
   "metadata": {},
   "outputs": [],
   "source": [
    "data_dask=da.from_array(data,chunks=len(data)//8)\n",
    "display(data_dask)\n",
    "sum_dask_dag=data_dask.sum()"
   ]
  },
  {
   "cell_type": "code",
   "execution_count": null,
   "id": "0ebf0212-9e7b-47d6-8b56-9d2de727f313",
   "metadata": {},
   "outputs": [],
   "source": [
    "sum_dask_dag.visualize()"
   ]
  },
  {
   "cell_type": "code",
   "execution_count": null,
   "id": "b45dc527-6b1d-4827-901f-be529d1899af",
   "metadata": {},
   "outputs": [],
   "source": [
    "%time sum_dask=sum_dask_dag.compute()\n",
    "sum_dask"
   ]
  },
  {
   "cell_type": "code",
   "execution_count": null,
   "id": "f42023bf-dbcb-4edf-b8e8-867d77d4b39f",
   "metadata": {},
   "outputs": [],
   "source": [
    "%time sum_dask=sum_dask_dag.compute()\n",
    "sum_dask"
   ]
  },
  {
   "cell_type": "code",
   "execution_count": null,
   "id": "d8cc7d3d-daec-4e93-8bbf-5deb1539164f",
   "metadata": {},
   "outputs": [],
   "source": [
    "data_dask=da.from_array(data,chunks=len(data)//16)\n",
    "display(data_dask)\n",
    "sum_dask_dag=data_dask.sum()"
   ]
  },
  {
   "cell_type": "code",
   "execution_count": null,
   "id": "2b2bbcb2-7f40-476b-b68c-06eea0ba54bb",
   "metadata": {},
   "outputs": [],
   "source": [
    "sum_dask_dag.visualize()"
   ]
  },
  {
   "cell_type": "code",
   "execution_count": null,
   "id": "2e31599c-d8f7-4508-af40-f0e6e620d474",
   "metadata": {},
   "outputs": [],
   "source": [
    "%time sum_dask=sum_dask_dag.compute()\n",
    "sum_dask"
   ]
  },
  {
   "cell_type": "code",
   "execution_count": null,
   "id": "26d07780-6fff-4012-b178-b357b72ed842",
   "metadata": {},
   "outputs": [],
   "source": [
    "x=[1,4,8,16]\n",
    "y=[810,410,176,174]\n",
    "plt.scatter(x,y)"
   ]
  },
  {
   "cell_type": "code",
   "execution_count": null,
   "id": "b63d62d5-e2cf-44e9-a33d-d63fc87cb5fa",
   "metadata": {},
   "outputs": [],
   "source": []
  }
 ],
 "metadata": {
  "kernelspec": {
   "display_name": "Python 3 (ipykernel)",
   "language": "python",
   "name": "python3"
  },
  "language_info": {
   "codemirror_mode": {
    "name": "ipython",
    "version": 3
   },
   "file_extension": ".py",
   "mimetype": "text/x-python",
   "name": "python",
   "nbconvert_exporter": "python",
   "pygments_lexer": "ipython3",
   "version": "3.10.14"
  }
 },
 "nbformat": 4,
 "nbformat_minor": 5
}
