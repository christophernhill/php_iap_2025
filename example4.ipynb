{
 "cells": [
  {
   "cell_type": "code",
   "execution_count": null,
   "id": "c446ab68-9cc8-4c2b-ab3d-691b29f9442c",
   "metadata": {},
   "outputs": [],
   "source": [
    "import numpy as np\n",
    "import dask.array as da\n",
    "data=np.arange(100_000).reshape(200,500)\n",
    "data_dask=da.from_array(data,chunks=(100,100))"
   ]
  },
  {
   "cell_type": "code",
   "execution_count": null,
   "id": "554b5d37-f552-4930-acf1-36c39038b6af",
   "metadata": {},
   "outputs": [],
   "source": [
    "display(data_dask.mean())\n",
    "print(data_dask.mean())"
   ]
  },
  {
   "cell_type": "code",
   "execution_count": null,
   "id": "876cf524-9fa7-4134-a863-e24c3c035d11",
   "metadata": {},
   "outputs": [],
   "source": [
    "display(data_dask.T)\n",
    "print(data_dask.T)"
   ]
  },
  {
   "cell_type": "code",
   "execution_count": null,
   "id": "86c57cda-2753-4087-a243-4431045ba0b8",
   "metadata": {},
   "outputs": [],
   "source": [
    "np.sin(data_dask)"
   ]
  },
  {
   "cell_type": "code",
   "execution_count": null,
   "id": "77982122-8828-47be-a241-0a9f0849266f",
   "metadata": {},
   "outputs": [],
   "source": [
    "display( np.sin(data_dask) )"
   ]
  },
  {
   "cell_type": "code",
   "execution_count": null,
   "id": "a99d2e99-4c50-402b-aa33-c46a04157eaf",
   "metadata": {},
   "outputs": [],
   "source": [
    "np.diff(data_dask)"
   ]
  },
  {
   "cell_type": "code",
   "execution_count": null,
   "id": "da53086b-fd9a-422d-a20d-5f81fee142ff",
   "metadata": {},
   "outputs": [],
   "source": [
    "( np.diff(data_dask) ).visualize()"
   ]
  },
  {
   "cell_type": "code",
   "execution_count": null,
   "id": "2d8aaa38-b68c-45bb-982e-18f3df6882b2",
   "metadata": {},
   "outputs": [],
   "source": []
  }
 ],
 "metadata": {
  "kernelspec": {
   "display_name": "Python 3 (ipykernel)",
   "language": "python",
   "name": "python3"
  },
  "language_info": {
   "codemirror_mode": {
    "name": "ipython",
    "version": 3
   },
   "file_extension": ".py",
   "mimetype": "text/x-python",
   "name": "python",
   "nbconvert_exporter": "python",
   "pygments_lexer": "ipython3",
   "version": "3.10.14"
  }
 },
 "nbformat": 4,
 "nbformat_minor": 5
}
