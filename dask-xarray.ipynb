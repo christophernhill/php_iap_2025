{
 "cells": [
  {
   "cell_type": "code",
   "execution_count": null,
   "id": "1926372b-5dc0-44d4-81b3-7c4233869271",
   "metadata": {},
   "outputs": [],
   "source": [
    "import xarray as xr"
   ]
  },
  {
   "cell_type": "code",
   "execution_count": null,
   "id": "51b4a730-9d7b-422a-8ca3-ee23b7358374",
   "metadata": {},
   "outputs": [],
   "source": [
    "ds = xr.tutorial.open_dataset('air_temperature',\n",
    "                              chunks={'lat':25,'lon':25,'time':-1})"
   ]
  },
  {
   "cell_type": "code",
   "execution_count": null,
   "id": "af1aca21-c4a2-44a9-8d97-8974addb841a",
   "metadata": {},
   "outputs": [],
   "source": [
    "ds.air"
   ]
  },
  {
   "cell_type": "code",
   "execution_count": null,
   "id": "ed541a4d-666f-4d35-8a15-03845e9af83e",
   "metadata": {},
   "outputs": [],
   "source": [
    "ds.air.data.max().visualize()"
   ]
  },
  {
   "cell_type": "code",
   "execution_count": null,
   "id": "c3ab21b2-4d1e-4fe8-91ff-b7c9fc0423b7",
   "metadata": {},
   "outputs": [],
   "source": [
    "dsnc=xr.open_mfdataset('tutorial-data/sst/*.nc')"
   ]
  },
  {
   "cell_type": "code",
   "execution_count": null,
   "id": "8c683674-1bc3-459d-a6f6-0ed85c9a8623",
   "metadata": {},
   "outputs": [],
   "source": [
    "dsnc.sst.data.max().visualize()"
   ]
  },
  {
   "cell_type": "code",
   "execution_count": null,
   "id": "9598007a-0d68-4a9d-b915-94f8a3bc4467",
   "metadata": {},
   "outputs": [],
   "source": []
  }
 ],
 "metadata": {
  "kernelspec": {
   "display_name": "Python 3 (ipykernel)",
   "language": "python",
   "name": "python3"
  },
  "language_info": {
   "codemirror_mode": {
    "name": "ipython",
    "version": 3
   },
   "file_extension": ".py",
   "mimetype": "text/x-python",
   "name": "python",
   "nbconvert_exporter": "python",
   "pygments_lexer": "ipython3",
   "version": "3.10.14"
  }
 },
 "nbformat": 4,
 "nbformat_minor": 5
}
