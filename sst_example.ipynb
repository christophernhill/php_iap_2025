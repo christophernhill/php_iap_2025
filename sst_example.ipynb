{
 "cells": [
  {
   "cell_type": "code",
   "execution_count": null,
   "id": "8e49f31c-2974-447f-a820-199543fa19ef",
   "metadata": {},
   "outputs": [],
   "source": [
    "import xarray as xr\n",
    "import dask as da\n",
    "import matplotlib.pyplot as plt\n",
    "import numpy as np\n",
    "from pytictoc import TicToc"
   ]
  },
  {
   "cell_type": "code",
   "execution_count": null,
   "id": "1c782735-5d0e-4019-8d7b-bf47e165a2a3",
   "metadata": {},
   "outputs": [],
   "source": [
    "mur_sst = xr.open_zarr(\"https://mur-sst.s3.us-west-2.amazonaws.com/zarr-v1\",consolidated=True)"
   ]
  },
  {
   "cell_type": "code",
   "execution_count": null,
   "id": "b0aee566-bd54-4cc8-a505-9573e4dfb233",
   "metadata": {},
   "outputs": [],
   "source": [
    "display(mur_sst)"
   ]
  },
  {
   "cell_type": "code",
   "execution_count": null,
   "id": "d8c3d41f-59e6-4109-8e08-373431235387",
   "metadata": {},
   "outputs": [],
   "source": [
    "display(mur_sst.analysed_sst.data.blocks[0,0,0])"
   ]
  },
  {
   "cell_type": "code",
   "execution_count": null,
   "id": "37bcad06-2afd-4110-a151-f664a69ac3b3",
   "metadata": {},
   "outputs": [],
   "source": [
    "ds=mur_sst.analysed_sst"
   ]
  },
  {
   "cell_type": "code",
   "execution_count": null,
   "id": "388e93b4-7294-436c-b619-b2b9ec9c1f59",
   "metadata": {},
   "outputs": [],
   "source": [
    "mask_lon=(ds.lon >= -71.5) & (ds.lon <= -68 )"
   ]
  },
  {
   "cell_type": "code",
   "execution_count": null,
   "id": "4c478154-e34c-4c49-addc-f2bb380482ff",
   "metadata": {},
   "outputs": [],
   "source": [
    "mask_lat=(ds.lat >=    41) & (ds.lat <= 43  )"
   ]
  },
  {
   "cell_type": "code",
   "execution_count": null,
   "id": "20d86ec3-3607-48ab-be38-20a0f8393486",
   "metadata": {},
   "outputs": [],
   "source": [
    "with da.config.set(**{'array.slicing.split_large_chunks': False}):\n",
    "    ds_masked=ds.where(mask_lon & mask_lat, drop=True)"
   ]
  },
  {
   "cell_type": "code",
   "execution_count": null,
   "id": "b34f9e5f-4905-4361-baa0-48f132339b11",
   "metadata": {},
   "outputs": [],
   "source": [
    "ds_masked"
   ]
  },
  {
   "cell_type": "code",
   "execution_count": null,
   "id": "99ade7cb-ae55-4b91-80bd-963f3d4c3f7b",
   "metadata": {},
   "outputs": [],
   "source": [
    "sst0=ds_masked[0,:,:].compute()"
   ]
  },
  {
   "cell_type": "code",
   "execution_count": null,
   "id": "3ffb4cb6-9b04-4c42-a724-5a334d032443",
   "metadata": {},
   "outputs": [],
   "source": [
    "fig, ax = plt.subplots()\n",
    "ax.pcolormesh(sst0)"
   ]
  },
  {
   "cell_type": "code",
   "execution_count": null,
   "id": "01015a0a-3786-4222-b30d-00664fffbaac",
   "metadata": {},
   "outputs": [],
   "source": [
    "plt.figure(figsize=(22, 12)) \n",
    "plt.pcolormesh(sst0)\n",
    "plt.colorbar()"
   ]
  },
  {
   "cell_type": "code",
   "execution_count": null,
   "id": "3741d0cc-0513-44db-8e03-15eaab125795",
   "metadata": {},
   "outputs": [],
   "source": [
    "sst_ts=ds_masked[1:365,150,200].compute()"
   ]
  },
  {
   "cell_type": "code",
   "execution_count": null,
   "id": "85ec40f9-758c-414d-8ef2-2c3910edd2a3",
   "metadata": {},
   "outputs": [],
   "source": [
    "plt.plot(sst_ts)"
   ]
  },
  {
   "cell_type": "code",
   "execution_count": null,
   "id": "91e773ad-3097-4a0f-8651-28aa2f0746ab",
   "metadata": {},
   "outputs": [],
   "source": [
    "t = TicToc()\n",
    "t.tic()\n",
    "sst_ts_S=ds_masked[1:365,0,50].compute()\n",
    "t.toc()"
   ]
  },
  {
   "cell_type": "code",
   "execution_count": null,
   "id": "559a7d5f-d3c1-4ae2-8ae3-bb3aebd5b89d",
   "metadata": {},
   "outputs": [],
   "source": [
    "plt.plot(sst_ts_S)"
   ]
  },
  {
   "cell_type": "code",
   "execution_count": null,
   "id": "7a5b3758-d0fc-4f25-a554-6c94ddf3648e",
   "metadata": {},
   "outputs": [],
   "source": [
    "ds_masked[1,0,0].compute()"
   ]
  },
  {
   "cell_type": "code",
   "execution_count": null,
   "id": "2236c994-53c5-4d9d-9e41-abb55b424e75",
   "metadata": {},
   "outputs": [],
   "source": [
    "t = TicToc(); t.tic()\n",
    "print(ds_masked[1,-1,0].compute())\n",
    "t.toc()"
   ]
  },
  {
   "cell_type": "code",
   "execution_count": null,
   "id": "d134696f-017f-41e4-b1d7-9cd3da76eaa7",
   "metadata": {},
   "outputs": [],
   "source": [
    "900/22"
   ]
  },
  {
   "cell_type": "code",
   "execution_count": null,
   "id": "53b26516-68c8-4436-8e00-0996fe3f2be0",
   "metadata": {},
   "outputs": [],
   "source": [
    "3600/22"
   ]
  },
  {
   "cell_type": "code",
   "execution_count": null,
   "id": "62694f7e-d356-49b0-974e-c03184add0e3",
   "metadata": {},
   "outputs": [],
   "source": []
  }
 ],
 "metadata": {
  "kernelspec": {
   "display_name": "Python 3 (ipykernel)",
   "language": "python",
   "name": "python3"
  },
  "language_info": {
   "codemirror_mode": {
    "name": "ipython",
    "version": 3
   },
   "file_extension": ".py",
   "mimetype": "text/x-python",
   "name": "python",
   "nbconvert_exporter": "python",
   "pygments_lexer": "ipython3",
   "version": "3.10.14"
  }
 },
 "nbformat": 4,
 "nbformat_minor": 5
}
