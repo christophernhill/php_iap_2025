{
 "cells": [
  {
   "cell_type": "markdown",
   "id": "2725ee29-c84b-4da3-b44c-680c4056abcd",
   "metadata": {
    "tags": []
   },
   "source": [
    "# Notebook to plot Amdahl parallel efficiency curves"
   ]
  },
  {
   "cell_type": "code",
   "execution_count": null,
   "id": "60c67470-5401-419c-a8bd-ec34cedfb611",
   "metadata": {
    "tags": []
   },
   "outputs": [],
   "source": [
    "import numpy as np\n",
    "import matplotlib.pyplot as plt\n",
    "def eff(f,n):\n",
    "    ϕ=n+f*(1-n)\n",
    "    return 1/ϕ"
   ]
  },
  {
   "cell_type": "code",
   "execution_count": null,
   "id": "567f176a-b246-4d39-940c-de59a80b4826",
   "metadata": {},
   "outputs": [],
   "source": [
    "N=np.array( (1,2,4,8,16,32,64,128,256,512,1024) )\n",
    "F=np.array( (1,0.9999,0.999,0.99,0.95,0.90,0.80,0.70,0.5) )"
   ]
  },
  {
   "cell_type": "code",
   "execution_count": null,
   "id": "905b1c68-8427-47f9-b23f-90f5136cd546",
   "metadata": {},
   "outputs": [],
   "source": [
    "plt.rcParams[\"figure.figsize\"] = [20, 10]\n",
    "plt.rcParams.update({'font.size': 22})\n",
    "for f in F:\n",
    "    evals=[eff(f,n) for n in N]\n",
    "    fstr='f=%4.4f'%(f)\n",
    "    plt.plot(N,evals,label=fstr)\n",
    "leg = plt.legend(loc='upper right')\n",
    "plt.ylabel('E')\n",
    "plt.xlabel('N')\n",
    "plt.title('Amdahl efficiency ($E=\\\\frac{1}{N+f(1-n)}$) versus N, for different f');"
   ]
  },
  {
   "cell_type": "code",
   "execution_count": null,
   "id": "005b6688-81c2-44cb-933c-1d47cb4daf60",
   "metadata": {},
   "outputs": [],
   "source": []
  }
 ],
 "metadata": {
  "kernelspec": {
   "display_name": "Python 3 (ipykernel)",
   "language": "python",
   "name": "python3"
  },
  "language_info": {
   "codemirror_mode": {
    "name": "ipython",
    "version": 3
   },
   "file_extension": ".py",
   "mimetype": "text/x-python",
   "name": "python",
   "nbconvert_exporter": "python",
   "pygments_lexer": "ipython3",
   "version": "3.10.14"
  }
 },
 "nbformat": 4,
 "nbformat_minor": 5
}
